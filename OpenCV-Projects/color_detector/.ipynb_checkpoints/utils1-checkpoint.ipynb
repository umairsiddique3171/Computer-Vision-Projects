{
 "cells": [
  {
   "cell_type": "code",
   "execution_count": 1,
   "id": "d2bf9641",
   "metadata": {},
   "outputs": [],
   "source": [
    "import numpy as np\n",
    "import cv2\n",
    "\n",
    "def get_limits(color):\n",
    "    \n",
    "    c = np.uint8([[color]])\n",
    "    hsvC = cv2.cvtColor(c,cv2.COLOR_BGR2HSV)\n",
    "    \n",
    "    lowerlimit = hsvC[0][0][0] - 10, 100, 100\n",
    "    upperlimit = hsvC[0][0][0] + 10, 255, 255\n",
    "    \n",
    "    lowerlimit = np.array(lowerlimit,dtype = np.uint8)\n",
    "    upperlimit = np.array(upperlimit,dtype = np.uint8)\n",
    "    \n",
    "    return lowerlimit, upperlimit"
   ]
  }
 ],
 "metadata": {
  "kernelspec": {
   "display_name": "coldetenv",
   "language": "python",
   "name": "coldetenv"
  },
  "language_info": {
   "codemirror_mode": {
    "name": "ipython",
    "version": 3
   },
   "file_extension": ".py",
   "mimetype": "text/x-python",
   "name": "python",
   "nbconvert_exporter": "python",
   "pygments_lexer": "ipython3",
   "version": "3.11.5"
  }
 },
 "nbformat": 4,
 "nbformat_minor": 5
}
