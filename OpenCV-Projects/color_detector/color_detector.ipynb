{
 "cells": [
  {
   "cell_type": "code",
   "execution_count": 1,
   "id": "33117965",
   "metadata": {},
   "outputs": [],
   "source": [
    "import cv2\n",
    "import os\n",
    "from PIL import Image\n",
    "from utils1 import get_limits"
   ]
  },
  {
   "cell_type": "code",
   "execution_count": 2,
   "id": "2f43662a",
   "metadata": {},
   "outputs": [],
   "source": [
    "yellow = [0,255,255] # yellow in BGR colorspace...as the green and red combine to form yellow \n",
    "cap = cv2.VideoCapture(0)\n",
    "while True:\n",
    "    ret,frame = cap.read()\n",
    "    converted = cv2.cvtColor(frame,cv2.COLOR_BGR2HSV)\n",
    "    lowerlimit, upperlimit = get_limits(color = yellow)\n",
    "    mask = cv2.inRange(converted,lowerlimit,upperlimit)\n",
    "    \n",
    "    mask_ = Image.fromarray(mask)\n",
    "    \n",
    "    bbox = mask_.getbbox()\n",
    "    \n",
    "    if bbox is not None:\n",
    "        x1,y1,x2,y2 = bbox\n",
    "        \n",
    "        cv2.rectangle(frame,(x1,y1),(x2,y2),(0,0,255),5) # here 5 is thickness\n",
    "    \n",
    "    cv2.imshow('frame',frame)\n",
    "    if cv2.waitKey(1) & 0xFF == ord('n'):\n",
    "        break\n",
    "        \n",
    "cap.release()\n",
    "cv2.destroyAllWindows()"
   ]
  },
  {
   "cell_type": "code",
   "execution_count": 3,
   "id": "ccc68fc7",
   "metadata": {},
   "outputs": [],
   "source": [
    "# It is usual to convert frame or image from bgr colorspace to anyother convenient colorspace depending upon your task"
   ]
  },
  {
   "cell_type": "code",
   "execution_count": null,
   "id": "0e9b9d3f",
   "metadata": {},
   "outputs": [],
   "source": []
  }
 ],
 "metadata": {
  "kernelspec": {
   "display_name": "Python 3 (ipykernel)",
   "language": "python",
   "name": "python3"
  },
  "language_info": {
   "codemirror_mode": {
    "name": "ipython",
    "version": 3
   },
   "file_extension": ".py",
   "mimetype": "text/x-python",
   "name": "python",
   "nbconvert_exporter": "python",
   "pygments_lexer": "ipython3",
   "version": "3.11.5"
  }
 },
 "nbformat": 4,
 "nbformat_minor": 5
}
