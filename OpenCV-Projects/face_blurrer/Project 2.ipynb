{
 "cells": [
  {
   "cell_type": "code",
   "execution_count": 1,
   "id": "37167674",
   "metadata": {},
   "outputs": [],
   "source": [
    "import cv2\n",
    "import os\n",
    "import mediapipe as mp"
   ]
  },
  {
   "cell_type": "code",
   "execution_count": 2,
   "id": "d3cfa9b8",
   "metadata": {},
   "outputs": [],
   "source": [
    "def process_image(img,face_detection):\n",
    "    H,W,_ = img.shape\n",
    "    img_rgb = cv2.cvtColor(img,cv2.COLOR_BGR2RGB)\n",
    "    out = face_detection.process(img_rgb)\n",
    "    \n",
    "    if out.detections is not None:\n",
    "        for detection in out.detections: \n",
    "            location_data = detection.location_data\n",
    "            bbox = location_data.relative_bounding_box   \n",
    "        x1,y1,w,h = bbox.xmin, bbox.ymin , bbox.width ,bbox.height\n",
    "        x1 = int(x1*W)\n",
    "        y1 = int(y1*H)\n",
    "        w = int(w*W)\n",
    "        h = int(h*H)\n",
    "        if x1 >= 0 and y1 >= 0 and x1 + w <= W and y1 + h <= H:\n",
    "            img[y1:y1+h,x1:x1+w] = cv2.blur(img[y1:y1+h,x1:x1+w],(20,20))         \n",
    "        return img   "
   ]
  },
  {
   "cell_type": "code",
   "execution_count": 3,
   "id": "00144632",
   "metadata": {},
   "outputs": [],
   "source": [
    "mp_face_detection = mp.solutions.face_detection\n",
    "with mp_face_detection.FaceDetection(min_detection_confidence = 0.5, model_selection = 0) as face_detection:\n",
    "    webcam = cv2.VideoCapture(0)\n",
    "    while True:\n",
    "        ret,frame = webcam.read()\n",
    "        frame_blured = process_image(frame,face_detection)\n",
    "        if frame_blured is not None:\n",
    "            cv2.imshow('webcam',frame_blured)\n",
    "            if cv2.waitKey(40) & 0xFF == ord('n'):\n",
    "                break\n",
    "        else : \n",
    "            cv2.imshow('webcam',frame)\n",
    "            if cv2.waitKey(40) & 0xFF == ord('n'):\n",
    "                break\n",
    "    webcam.release()\n",
    "    cv2.destroyAllWindows()"
   ]
  },
  {
   "cell_type": "code",
   "execution_count": null,
   "id": "008c1717",
   "metadata": {},
   "outputs": [],
   "source": []
  }
 ],
 "metadata": {
  "kernelspec": {
   "display_name": "Python 3 (ipykernel)",
   "language": "python",
   "name": "python3"
  },
  "language_info": {
   "codemirror_mode": {
    "name": "ipython",
    "version": 3
   },
   "file_extension": ".py",
   "mimetype": "text/x-python",
   "name": "python",
   "nbconvert_exporter": "python",
   "pygments_lexer": "ipython3",
   "version": "3.11.5"
  }
 },
 "nbformat": 4,
 "nbformat_minor": 5
}
