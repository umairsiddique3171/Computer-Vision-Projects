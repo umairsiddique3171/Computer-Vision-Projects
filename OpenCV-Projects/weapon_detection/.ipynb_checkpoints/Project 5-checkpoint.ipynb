{
 "cells": [
  {
   "cell_type": "code",
   "execution_count": 1,
   "id": "4d072f4f",
   "metadata": {},
   "outputs": [],
   "source": [
    "import cv2\n",
    "import os\n",
    "import time\n",
    "\n",
    "# this func is created to detect threat (i.e. weapon) from any stream or video\n",
    "def weapon_detector(source_path,results_path,box_limit = 10000,show = False):\n",
    "    \n",
    "    # using opencv builtin classifier for weapon detection\n",
    "    gun_cascade = cv2.CascadeClassifier('gun_cascade.xml')\n",
    "\n",
    "    cap = cv2.VideoCapture(source_path) # capturing video from path\n",
    "    frameWidth = 640\n",
    "    frameHeight = 480 \n",
    "    cap.set(3,frameWidth) # width has id no. 3\n",
    "    cap.set(4,frameHeight) # height has id no. 4\n",
    "    cap.set(10,130) # brightness has id no. 10\n",
    "    ret, frame = cap.read() \n",
    "    output_video = cv2.VideoWriter(results_path,  \n",
    "                          cv2.VideoWriter_fourcc(*'MP4V'),\n",
    "                          25,\n",
    "                          (frame.shape[1],frame.shape[0])) # defining video writer\n",
    "    ret = True\n",
    "    while ret:\n",
    "        ret,frame = cap.read() # reading video from captured instance\n",
    "        if frame is not None: \n",
    "            imgGray =  cv2.cvtColor(frame,cv2.COLOR_BGR2GRAY)\n",
    "            guns = gun_cascade.detectMultiScale(imgGray,1.1,4)\n",
    "            for (x,y,w,h) in guns:\n",
    "                area = w*h\n",
    "                if area>box_limit:\n",
    "                    cv2.rectangle(frame,(x,y),(x+w,y+h),(0,255,0),2)\n",
    "                    cv2.putText(frame,'threat',(x,y-10),cv2.FONT_HERSHEY_COMPLEX_SMALL,1,[0,0,255],2)\n",
    "            if show:\n",
    "                cv2.imshow(\"Result\",frame)\n",
    "                time.sleep(0.1)\n",
    "                if cv2.waitKey(1) & 0xFF == ord('n'):\n",
    "                    break\n",
    "            output_video.write(frame) # saving video\n",
    "                \n",
    "    cap.release()\n",
    "    output_video.release()\n",
    "    cv2.destroyAllWindows()"
   ]
  },
  {
   "cell_type": "code",
   "execution_count": 2,
   "id": "77779a6d",
   "metadata": {},
   "outputs": [],
   "source": [
    "weapon_detector(os.path.join('video.mp4'),os.path.join('result.mp4'),box_limit = 50000,show = True)"
   ]
  },
  {
   "cell_type": "code",
   "execution_count": 3,
   "id": "9c081509",
   "metadata": {},
   "outputs": [],
   "source": [
    "# you can tune the box_limit to detect weapon as per according to your need.\n",
    "# more closer the weapon to the camera, more box_limit you need to avoid noise."
   ]
  },
  {
   "cell_type": "code",
   "execution_count": null,
   "id": "8f95c25c",
   "metadata": {},
   "outputs": [],
   "source": []
  },
  {
   "cell_type": "code",
   "execution_count": null,
   "id": "bd3fecbc",
   "metadata": {},
   "outputs": [],
   "source": []
  }
 ],
 "metadata": {
  "kernelspec": {
   "display_name": "Python 3 (ipykernel)",
   "language": "python",
   "name": "python3"
  },
  "language_info": {
   "codemirror_mode": {
    "name": "ipython",
    "version": 3
   },
   "file_extension": ".py",
   "mimetype": "text/x-python",
   "name": "python",
   "nbconvert_exporter": "python",
   "pygments_lexer": "ipython3",
   "version": "3.11.5"
  }
 },
 "nbformat": 4,
 "nbformat_minor": 5
}
