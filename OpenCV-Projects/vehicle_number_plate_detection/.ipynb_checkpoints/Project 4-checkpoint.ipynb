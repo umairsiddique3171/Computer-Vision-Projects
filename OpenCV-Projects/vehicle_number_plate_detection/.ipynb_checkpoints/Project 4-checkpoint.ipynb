{
 "cells": [
  {
   "cell_type": "code",
   "execution_count": 1,
   "id": "aaaca5af",
   "metadata": {},
   "outputs": [],
   "source": [
    "import cv2\n",
    "import os\n",
    "\n",
    "# this func is created to detect number_plates from image or video\n",
    "def number_plate_detector(source_path,results_path,show = False):\n",
    "    \n",
    "    # using opencv builtin classifier for number plate detection\n",
    "    n_plate_Cascade = cv2.CascadeClassifier(\"haarcascades/haarcascade_russian_plate_number.xml\")\n",
    "    video = False\n",
    "    \n",
    "    # for image\n",
    "    if source_path.lower().endswith(('.jpg', '.png')):\n",
    "        img = cv2.imread(source_path)\n",
    "        imgGray =  cv2.cvtColor(img,cv2.COLOR_BGR2GRAY)\n",
    "        numberPlates = n_plate_Cascade.detectMultiScale(imgGray,1.1,4)\n",
    "        count = 1\n",
    "        for (x,y,w,h) in numberPlates:\n",
    "            area = w*h\n",
    "            if area>500:\n",
    "                cv2.rectangle(img,(x,y),(x+w,y+h),(0,255,0),2)\n",
    "                cv2.putText(img,'Number Plate',(x,y-10),cv2.FONT_HERSHEY_COMPLEX_SMALL,1,[255,0,0],2)\n",
    "                nplateimage = img[y:y+h,x:x+w] # cropping number plate\n",
    "                platepath = results_path.split('.')[0]+f'_cropped_{count}.png'\n",
    "                cv2.imwrite(platepath,nplateimage) # saving cropped number plate\n",
    "                count += 1  \n",
    "        \n",
    "        if show :\n",
    "            cv2.imshow(\"Result\",img)\n",
    "            cv2.waitKey(0) \n",
    "        cv2.imwrite(results_path,img) # saving image\n",
    "        \n",
    "    # for video\n",
    "    elif source_path.lower().endswith(('.mp4')):\n",
    "        video = True\n",
    "        cap = cv2.VideoCapture(source_path)\n",
    "        frameWidth = 640\n",
    "        frameHeight = 480 \n",
    "        cap.set(3,frameWidth) # width has id no. 3\n",
    "        cap.set(4,frameHeight) # height has id no. 4\n",
    "        cap.set(10,130) # brightness has id no. 10\n",
    "        ret, frame = cap.read() \n",
    "        output_video = cv2.VideoWriter(results_path,\n",
    "                              cv2.VideoWriter_fourcc(*'MP4V'),\n",
    "                              25,\n",
    "                              (frame.shape[1],frame.shape[0]))\n",
    "        ret = True\n",
    "        while ret:\n",
    "            ret,frame = cap.read()\n",
    "            if frame is not None: \n",
    "                imgGray =  cv2.cvtColor(frame,cv2.COLOR_BGR2GRAY)\n",
    "                numberPlates = n_plate_Cascade.detectMultiScale(imgGray,1.1,4)\n",
    "                for (x,y,w,h) in numberPlates:\n",
    "                    area = w*h\n",
    "                    if area>500:\n",
    "                        cv2.rectangle(frame,(x,y),(x+w,y+h),(0,255,0),2)\n",
    "                        cv2.putText(frame,'Number Plate',(x,y-10),cv2.FONT_HERSHEY_COMPLEX_SMALL,1,[255,0,0],2)\n",
    "                        nplateimage = frame[y:y+h,x:x+w]\n",
    "                if show:\n",
    "                    cv2.imshow(\"Result\",frame)\n",
    "                    if cv2.waitKey(1) & 0xFF == ord('n'):\n",
    "                        break\n",
    "                output_video.write(frame) # saving video\n",
    "                \n",
    "                \n",
    "    else:\n",
    "            print('irrelevantfile')\n",
    "    \n",
    "    if video == True:\n",
    "        cap.release()\n",
    "        output_video.release()\n",
    "    cv2.destroyAllWindows()"
   ]
  },
  {
   "cell_type": "code",
   "execution_count": null,
   "id": "4c0e0644",
   "metadata": {},
   "outputs": [],
   "source": []
  },
  {
   "cell_type": "code",
   "execution_count": 2,
   "id": "7db110b8",
   "metadata": {},
   "outputs": [],
   "source": [
    "# for test_img"
   ]
  },
  {
   "cell_type": "code",
   "execution_count": 3,
   "id": "caf38336",
   "metadata": {},
   "outputs": [],
   "source": [
    "source_path = os.path.join('test_img','test_img.png')\n",
    "results_path = os.path.join('test_img','result.png')"
   ]
  },
  {
   "cell_type": "code",
   "execution_count": 4,
   "id": "64cbfd86",
   "metadata": {},
   "outputs": [],
   "source": [
    "number_plate_detector(source_path,results_path)"
   ]
  },
  {
   "cell_type": "code",
   "execution_count": null,
   "id": "b2b49216",
   "metadata": {},
   "outputs": [],
   "source": []
  },
  {
   "cell_type": "code",
   "execution_count": 5,
   "id": "022a93af",
   "metadata": {},
   "outputs": [],
   "source": [
    "# for test_video"
   ]
  },
  {
   "cell_type": "code",
   "execution_count": 6,
   "id": "21c0d522",
   "metadata": {},
   "outputs": [],
   "source": [
    "source_path = os.path.join('test_video','video.mp4')\n",
    "results_path = os.path.join('test_video','result.mp4')"
   ]
  },
  {
   "cell_type": "code",
   "execution_count": 7,
   "id": "9a421cc7",
   "metadata": {},
   "outputs": [],
   "source": [
    "number_plate_detector(source_path,results_path)"
   ]
  },
  {
   "cell_type": "code",
   "execution_count": null,
   "id": "b46c34c6",
   "metadata": {},
   "outputs": [],
   "source": []
  }
 ],
 "metadata": {
  "kernelspec": {
   "display_name": "Python 3 (ipykernel)",
   "language": "python",
   "name": "python3"
  },
  "language_info": {
   "codemirror_mode": {
    "name": "ipython",
    "version": 3
   },
   "file_extension": ".py",
   "mimetype": "text/x-python",
   "name": "python",
   "nbconvert_exporter": "python",
   "pygments_lexer": "ipython3",
   "version": "3.11.5"
  }
 },
 "nbformat": 4,
 "nbformat_minor": 5
}
