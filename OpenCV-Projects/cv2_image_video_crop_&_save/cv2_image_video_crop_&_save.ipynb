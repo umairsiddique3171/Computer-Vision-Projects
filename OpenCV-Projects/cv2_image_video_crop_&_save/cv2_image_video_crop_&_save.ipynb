{
 "cells": [
  {
   "cell_type": "code",
   "execution_count": 1,
   "id": "52591c68",
   "metadata": {},
   "outputs": [],
   "source": [
    "import os\n",
    "import cv2"
   ]
  },
  {
   "cell_type": "markdown",
   "id": "e2a24ce0",
   "metadata": {},
   "source": [
    "##### image"
   ]
  },
  {
   "cell_type": "code",
   "execution_count": 2,
   "id": "02f7dfd8",
   "metadata": {},
   "outputs": [],
   "source": [
    "img = cv2.imread('mask.png')"
   ]
  },
  {
   "cell_type": "code",
   "execution_count": 3,
   "id": "14047737",
   "metadata": {},
   "outputs": [
    {
     "data": {
      "text/plain": [
       "(1080, 1920, 3)"
      ]
     },
     "execution_count": 3,
     "metadata": {},
     "output_type": "execute_result"
    }
   ],
   "source": [
    "img.shape"
   ]
  },
  {
   "cell_type": "code",
   "execution_count": 4,
   "id": "849f9121",
   "metadata": {},
   "outputs": [],
   "source": [
    "img1 = img[85:650,70:915,:]"
   ]
  },
  {
   "cell_type": "code",
   "execution_count": 5,
   "id": "ee91a46f",
   "metadata": {},
   "outputs": [
    {
     "data": {
      "text/plain": [
       "(565, 845, 3)"
      ]
     },
     "execution_count": 5,
     "metadata": {},
     "output_type": "execute_result"
    }
   ],
   "source": [
    "img1.shape"
   ]
  },
  {
   "cell_type": "code",
   "execution_count": 6,
   "id": "337f6cca",
   "metadata": {},
   "outputs": [
    {
     "data": {
      "text/plain": [
       "-1"
      ]
     },
     "execution_count": 6,
     "metadata": {},
     "output_type": "execute_result"
    }
   ],
   "source": [
    "cv2.imshow('img',img1)\n",
    "cv2.waitKey(0)"
   ]
  },
  {
   "cell_type": "code",
   "execution_count": 7,
   "id": "28bfaabe",
   "metadata": {},
   "outputs": [
    {
     "data": {
      "text/plain": [
       "True"
      ]
     },
     "execution_count": 7,
     "metadata": {},
     "output_type": "execute_result"
    }
   ],
   "source": [
    "cv2.imwrite(os.path.join('mask1.png'),img1)"
   ]
  },
  {
   "cell_type": "code",
   "execution_count": null,
   "id": "8fb903c8",
   "metadata": {},
   "outputs": [],
   "source": []
  },
  {
   "cell_type": "markdown",
   "id": "4329a55b",
   "metadata": {},
   "source": [
    "##### video"
   ]
  },
  {
   "cell_type": "code",
   "execution_count": 8,
   "id": "f604d6e1",
   "metadata": {},
   "outputs": [],
   "source": [
    "video = cv2.VideoCapture('parking.mp4')"
   ]
  },
  {
   "cell_type": "code",
   "execution_count": 9,
   "id": "8bf11e81",
   "metadata": {},
   "outputs": [],
   "source": [
    "ret = True\n",
    "while ret:\n",
    "    ret,frame = video.read()\n",
    "    frame_number = 0\n",
    "    if frame is not None and frame_number < 5:\n",
    "        new_frame = frame[85:650,70:915,:]\n",
    "        cv2.imshow('parking', new_frame)\n",
    "        if cv2.waitKey(25) & 0xFF == ord('n'):\n",
    "            break\n",
    "        frame_number += 1\n",
    "\n",
    "video.release()\n",
    "cv2.destroyAllWindows()\n",
    "# Above 2 lines are very important if you don't want to have an error.\n",
    "# so use them every time you want to visualize the video"
   ]
  },
  {
   "cell_type": "code",
   "execution_count": 10,
   "id": "8aedba2a",
   "metadata": {},
   "outputs": [],
   "source": [
    "cap = cv2.VideoCapture(os.path.join('parking.mp4'))\n",
    "ret,frame = cap.read()\n",
    "new_frame = frame[85:650,70:915,:]\n",
    "output_video = cv2.VideoWriter(os.path.join('.','parking1.mp4'),\n",
    "                              cv2.VideoWriter_fourcc(*'MP4V'),\n",
    "                              25,\n",
    "                              (new_frame.shape[1],new_frame.shape[0]))"
   ]
  },
  {
   "cell_type": "code",
   "execution_count": 11,
   "id": "8b715e0b",
   "metadata": {},
   "outputs": [
    {
     "name": "stdout",
     "output_type": "stream",
     "text": [
      "(565, 845, 3)\n"
     ]
    }
   ],
   "source": [
    "ret = True\n",
    "x = True\n",
    "while ret:\n",
    "    ret,frame = cap.read()\n",
    "    if frame is not None: \n",
    "        new_frame = frame[85:650,70:915,:]\n",
    "        if x: \n",
    "            print(new_frame.shape)\n",
    "            x = False\n",
    "        output_video.write(new_frame)\n",
    "cap.release()\n",
    "output_video.release()"
   ]
  },
  {
   "cell_type": "code",
   "execution_count": null,
   "id": "8b3e4cc6",
   "metadata": {},
   "outputs": [],
   "source": []
  },
  {
   "cell_type": "code",
   "execution_count": null,
   "id": "f6a291ca",
   "metadata": {},
   "outputs": [],
   "source": []
  },
  {
   "cell_type": "code",
   "execution_count": null,
   "id": "b69f74d0",
   "metadata": {},
   "outputs": [],
   "source": []
  }
 ],
 "metadata": {
  "kernelspec": {
   "display_name": "Python 3 (ipykernel)",
   "language": "python",
   "name": "python3"
  },
  "language_info": {
   "codemirror_mode": {
    "name": "ipython",
    "version": 3
   },
   "file_extension": ".py",
   "mimetype": "text/x-python",
   "name": "python",
   "nbconvert_exporter": "python",
   "pygments_lexer": "ipython3",
   "version": "3.11.5"
  }
 },
 "nbformat": 4,
 "nbformat_minor": 5
}
